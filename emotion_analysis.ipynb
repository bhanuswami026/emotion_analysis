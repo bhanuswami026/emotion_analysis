{
  "nbformat": 4,
  "nbformat_minor": 0,
  "metadata": {
    "colab": {
      "name": "emotion_analysis.ipynb",
      "provenance": [],
      "collapsed_sections": [],
      "mount_file_id": "1n4IKTbtEhGhQsowgo9JbcxEFLk3mn0IR",
      "authorship_tag": "ABX9TyNFdolMgE4Q+nJKXoK/p5B4"
    },
    "kernelspec": {
      "name": "python3",
      "display_name": "Python 3"
    },
    "language_info": {
      "name": "python"
    }
  },
  "cells": [
    {
      "cell_type": "code",
      "metadata": {
        "id": "JYNSeQH844OL"
      },
      "source": [
        "# import libraries\n",
        "import pandas as pd\n",
        "import numpy as np\n"
      ],
      "execution_count": null,
      "outputs": []
    },
    {
      "cell_type": "code",
      "metadata": {
        "colab": {
          "base_uri": "https://localhost:8080/",
          "height": 200
        },
        "id": "E3KKOoWU4__7",
        "outputId": "1f3d0ab1-acbf-456d-e42e-e8bd75e95878"
      },
      "source": [
        "df_train = pd.read_csv('/content/drive/MyDrive/Datasets/emotion_nlp/emotion_train.txt', header =None, sep =';', names = ['Input','Sentiment'], encoding='utf-8')\n",
        "df_train.head()"
      ],
      "execution_count": null,
      "outputs": [
        {
          "output_type": "execute_result",
          "data": {
            "text/html": [
              "<div>\n",
              "<style scoped>\n",
              "    .dataframe tbody tr th:only-of-type {\n",
              "        vertical-align: middle;\n",
              "    }\n",
              "\n",
              "    .dataframe tbody tr th {\n",
              "        vertical-align: top;\n",
              "    }\n",
              "\n",
              "    .dataframe thead th {\n",
              "        text-align: right;\n",
              "    }\n",
              "</style>\n",
              "<table border=\"1\" class=\"dataframe\">\n",
              "  <thead>\n",
              "    <tr style=\"text-align: right;\">\n",
              "      <th></th>\n",
              "      <th>Input</th>\n",
              "      <th>Sentiment</th>\n",
              "    </tr>\n",
              "  </thead>\n",
              "  <tbody>\n",
              "    <tr>\n",
              "      <th>0</th>\n",
              "      <td>i didnt feel humiliated</td>\n",
              "      <td>sadness</td>\n",
              "    </tr>\n",
              "    <tr>\n",
              "      <th>1</th>\n",
              "      <td>i can go from feeling so hopeless to so damned...</td>\n",
              "      <td>sadness</td>\n",
              "    </tr>\n",
              "    <tr>\n",
              "      <th>2</th>\n",
              "      <td>im grabbing a minute to post i feel greedy wrong</td>\n",
              "      <td>anger</td>\n",
              "    </tr>\n",
              "    <tr>\n",
              "      <th>3</th>\n",
              "      <td>i am ever feeling nostalgic about the fireplac...</td>\n",
              "      <td>love</td>\n",
              "    </tr>\n",
              "    <tr>\n",
              "      <th>4</th>\n",
              "      <td>i am feeling grouchy</td>\n",
              "      <td>anger</td>\n",
              "    </tr>\n",
              "  </tbody>\n",
              "</table>\n",
              "</div>"
            ],
            "text/plain": [
              "                                               Input Sentiment\n",
              "0                            i didnt feel humiliated   sadness\n",
              "1  i can go from feeling so hopeless to so damned...   sadness\n",
              "2   im grabbing a minute to post i feel greedy wrong     anger\n",
              "3  i am ever feeling nostalgic about the fireplac...      love\n",
              "4                               i am feeling grouchy     anger"
            ]
          },
          "metadata": {},
          "execution_count": 2
        }
      ]
    },
    {
      "cell_type": "code",
      "metadata": {
        "colab": {
          "base_uri": "https://localhost:8080/",
          "height": 200
        },
        "id": "JVzv1RqJ5g9Z",
        "outputId": "87424167-cd99-4bd6-e79f-3b48e7aa05d6"
      },
      "source": [
        "df_test = pd.read_csv('/content/drive/MyDrive/Datasets/emotion_nlp/emotion_test.txt', header = None, sep =';', names = ['Input','Sentiment'],encoding='utf-8')\n",
        "df_test.head()"
      ],
      "execution_count": null,
      "outputs": [
        {
          "output_type": "execute_result",
          "data": {
            "text/html": [
              "<div>\n",
              "<style scoped>\n",
              "    .dataframe tbody tr th:only-of-type {\n",
              "        vertical-align: middle;\n",
              "    }\n",
              "\n",
              "    .dataframe tbody tr th {\n",
              "        vertical-align: top;\n",
              "    }\n",
              "\n",
              "    .dataframe thead th {\n",
              "        text-align: right;\n",
              "    }\n",
              "</style>\n",
              "<table border=\"1\" class=\"dataframe\">\n",
              "  <thead>\n",
              "    <tr style=\"text-align: right;\">\n",
              "      <th></th>\n",
              "      <th>Input</th>\n",
              "      <th>Sentiment</th>\n",
              "    </tr>\n",
              "  </thead>\n",
              "  <tbody>\n",
              "    <tr>\n",
              "      <th>0</th>\n",
              "      <td>im feeling rather rotten so im not very ambiti...</td>\n",
              "      <td>sadness</td>\n",
              "    </tr>\n",
              "    <tr>\n",
              "      <th>1</th>\n",
              "      <td>im updating my blog because i feel shitty</td>\n",
              "      <td>sadness</td>\n",
              "    </tr>\n",
              "    <tr>\n",
              "      <th>2</th>\n",
              "      <td>i never make her separate from me because i do...</td>\n",
              "      <td>sadness</td>\n",
              "    </tr>\n",
              "    <tr>\n",
              "      <th>3</th>\n",
              "      <td>i left with my bouquet of red and yellow tulip...</td>\n",
              "      <td>joy</td>\n",
              "    </tr>\n",
              "    <tr>\n",
              "      <th>4</th>\n",
              "      <td>i was feeling a little vain when i did this one</td>\n",
              "      <td>sadness</td>\n",
              "    </tr>\n",
              "  </tbody>\n",
              "</table>\n",
              "</div>"
            ],
            "text/plain": [
              "                                               Input Sentiment\n",
              "0  im feeling rather rotten so im not very ambiti...   sadness\n",
              "1          im updating my blog because i feel shitty   sadness\n",
              "2  i never make her separate from me because i do...   sadness\n",
              "3  i left with my bouquet of red and yellow tulip...       joy\n",
              "4    i was feeling a little vain when i did this one   sadness"
            ]
          },
          "metadata": {},
          "execution_count": 3
        }
      ]
    },
    {
      "cell_type": "code",
      "metadata": {
        "colab": {
          "base_uri": "https://localhost:8080/"
        },
        "id": "eaYMSzXY5nZ9",
        "outputId": "2dd98fcf-bf3e-4196-9198-d34561391b83"
      },
      "source": [
        "# number of unique sentiments\n",
        "#np.unique(df_train['Sentiment'])\n",
        "# or\n",
        "df_train.Sentiment.value_counts()"
      ],
      "execution_count": null,
      "outputs": [
        {
          "output_type": "execute_result",
          "data": {
            "text/plain": [
              "joy         5362\n",
              "sadness     4666\n",
              "anger       2159\n",
              "fear        1937\n",
              "love        1304\n",
              "surprise     572\n",
              "Name: Sentiment, dtype: int64"
            ]
          },
          "metadata": {},
          "execution_count": 4
        }
      ]
    },
    {
      "cell_type": "code",
      "metadata": {
        "colab": {
          "base_uri": "https://localhost:8080/"
        },
        "id": "LHDEIF-86zbx",
        "outputId": "c85a6010-f1bd-46f2-c4c9-b490fe8ee38b"
      },
      "source": [
        "df_test.Sentiment.value_counts()"
      ],
      "execution_count": null,
      "outputs": [
        {
          "output_type": "execute_result",
          "data": {
            "text/plain": [
              "joy         695\n",
              "sadness     581\n",
              "anger       275\n",
              "fear        224\n",
              "love        159\n",
              "surprise     66\n",
              "Name: Sentiment, dtype: int64"
            ]
          },
          "metadata": {},
          "execution_count": 5
        }
      ]
    },
    {
      "cell_type": "code",
      "metadata": {
        "id": "_c6AB1l45w4q"
      },
      "source": [
        "# Label encoding the target of training set\n",
        "df_train['Sentiment'].replace(\"anger\",0,inplace = True)\n",
        "df_train['Sentiment'].replace(\"fear\",1,inplace = True)\n",
        "df_train['Sentiment'].replace(\"joy\",2,inplace = True)\n",
        "df_train['Sentiment'].replace(\"love\",3,inplace = True)\n",
        "df_train['Sentiment'].replace(\"sadness\",4,inplace = True)\n",
        "df_train['Sentiment'].replace(\"surprise\",5,inplace = True)\n",
        "\n",
        "# Label encoding the target of testing set\n",
        "df_test['Sentiment'].replace(\"anger\",0,inplace = True)\n",
        "df_test['Sentiment'].replace(\"fear\",1,inplace = True)\n",
        "df_test['Sentiment'].replace(\"joy\",2,inplace = True)\n",
        "df_test['Sentiment'].replace(\"love\",3,inplace = True)\n",
        "df_test['Sentiment'].replace(\"sadness\",4,inplace = True)\n",
        "df_test['Sentiment'].replace(\"surprise\",5,inplace = True)"
      ],
      "execution_count": null,
      "outputs": []
    },
    {
      "cell_type": "code",
      "metadata": {
        "colab": {
          "base_uri": "https://localhost:8080/",
          "height": 138
        },
        "id": "GWPbiRmB6Ggz",
        "outputId": "1bccebcd-1c2c-4b27-b844-91676f2ace56"
      },
      "source": [
        "df_train.head(3)"
      ],
      "execution_count": null,
      "outputs": [
        {
          "output_type": "execute_result",
          "data": {
            "text/html": [
              "<div>\n",
              "<style scoped>\n",
              "    .dataframe tbody tr th:only-of-type {\n",
              "        vertical-align: middle;\n",
              "    }\n",
              "\n",
              "    .dataframe tbody tr th {\n",
              "        vertical-align: top;\n",
              "    }\n",
              "\n",
              "    .dataframe thead th {\n",
              "        text-align: right;\n",
              "    }\n",
              "</style>\n",
              "<table border=\"1\" class=\"dataframe\">\n",
              "  <thead>\n",
              "    <tr style=\"text-align: right;\">\n",
              "      <th></th>\n",
              "      <th>Input</th>\n",
              "      <th>Sentiment</th>\n",
              "    </tr>\n",
              "  </thead>\n",
              "  <tbody>\n",
              "    <tr>\n",
              "      <th>0</th>\n",
              "      <td>i didnt feel humiliated</td>\n",
              "      <td>4</td>\n",
              "    </tr>\n",
              "    <tr>\n",
              "      <th>1</th>\n",
              "      <td>i can go from feeling so hopeless to so damned...</td>\n",
              "      <td>4</td>\n",
              "    </tr>\n",
              "    <tr>\n",
              "      <th>2</th>\n",
              "      <td>im grabbing a minute to post i feel greedy wrong</td>\n",
              "      <td>0</td>\n",
              "    </tr>\n",
              "  </tbody>\n",
              "</table>\n",
              "</div>"
            ],
            "text/plain": [
              "                                               Input  Sentiment\n",
              "0                            i didnt feel humiliated          4\n",
              "1  i can go from feeling so hopeless to so damned...          4\n",
              "2   im grabbing a minute to post i feel greedy wrong          0"
            ]
          },
          "metadata": {},
          "execution_count": 7
        }
      ]
    },
    {
      "cell_type": "code",
      "metadata": {
        "colab": {
          "base_uri": "https://localhost:8080/",
          "height": 295
        },
        "id": "Ecz-3x7U6gpI",
        "outputId": "a833f64c-a46e-4e18-b5ef-3400d4fcd634"
      },
      "source": [
        "import seaborn as sns\n",
        "sns.countplot(x=\"Sentiment\",data=df_train)"
      ],
      "execution_count": null,
      "outputs": [
        {
          "output_type": "execute_result",
          "data": {
            "text/plain": [
              "<matplotlib.axes._subplots.AxesSubplot at 0x7fc6fa0fcd90>"
            ]
          },
          "metadata": {},
          "execution_count": 8
        },
        {
          "output_type": "display_data",
          "data": {
            "image/png": "[encoded data removed]",
            "text/plain": [
              "<Figure size 432x288 with 1 Axes>"
            ]
          },
          "metadata": {
            "needs_background": "light"
          }
        }
      ]
    },
    {
      "cell_type": "code",
      "metadata": {
        "colab": {
          "base_uri": "https://localhost:8080/"
        },
        "id": "gtY49L2_6J0g",
        "outputId": "2ada3318-bcc1-4c56-b8d8-5cd093745ba7"
      },
      "source": [
        "df_test.Sentiment.value_counts()"
      ],
      "execution_count": null,
      "outputs": [
        {
          "output_type": "execute_result",
          "data": {
            "text/plain": [
              "2    695\n",
              "4    581\n",
              "0    275\n",
              "1    224\n",
              "3    159\n",
              "5     66\n",
              "Name: Sentiment, dtype: int64"
            ]
          },
          "metadata": {},
          "execution_count": 9
        }
      ]
    },
    {
      "cell_type": "code",
      "metadata": {
        "id": "13Y1kzvq6MNy"
      },
      "source": [
        ""
      ],
      "execution_count": null,
      "outputs": []
    },
    {
      "cell_type": "code",
      "metadata": {
        "colab": {
          "base_uri": "https://localhost:8080/"
        },
        "id": "ad8GNZp06ZJn",
        "outputId": "c9b7b4d2-915c-42f6-8280-837833d1e2b2"
      },
      "source": [
        "# Dealing with missing values in training set\n",
        "df_train.isnull().sum()"
      ],
      "execution_count": null,
      "outputs": [
        {
          "output_type": "execute_result",
          "data": {
            "text/plain": [
              "Input        0\n",
              "Sentiment    0\n",
              "dtype: int64"
            ]
          },
          "metadata": {},
          "execution_count": 10
        }
      ]
    },
    {
      "cell_type": "code",
      "metadata": {
        "colab": {
          "base_uri": "https://localhost:8080/"
        },
        "id": "j_Q0dlsT652D",
        "outputId": "3ee74cea-3941-41e2-aa64-8a58b890dd7d"
      },
      "source": [
        "df_train.info()"
      ],
      "execution_count": null,
      "outputs": [
        {
          "output_type": "stream",
          "name": "stdout",
          "text": [
            "<class 'pandas.core.frame.DataFrame'>\n",
            "RangeIndex: 16000 entries, 0 to 15999\n",
            "Data columns (total 2 columns):\n",
            " #   Column     Non-Null Count  Dtype \n",
            "---  ------     --------------  ----- \n",
            " 0   Input      16000 non-null  object\n",
            " 1   Sentiment  16000 non-null  int64 \n",
            "dtypes: int64(1), object(1)\n",
            "memory usage: 250.1+ KB\n"
          ]
        }
      ]
    },
    {
      "cell_type": "code",
      "metadata": {
        "colab": {
          "base_uri": "https://localhost:8080/"
        },
        "id": "M0Tv9nPD6_sx",
        "outputId": "54bf0b6c-db5a-42cc-967a-004e55cf5501"
      },
      "source": [
        "# Creating the input and output variables\n",
        "x = df_train[\"Input\"]\n",
        "y = df_train[\"Sentiment\"]\n",
        "\n",
        "print(x.shape,y.shape)"
      ],
      "execution_count": null,
      "outputs": [
        {
          "output_type": "stream",
          "name": "stdout",
          "text": [
            "(16000,) (16000,)\n"
          ]
        }
      ]
    },
    {
      "cell_type": "code",
      "metadata": {
        "id": "SCLFV_VI7EF6"
      },
      "source": [
        "message = x.copy()"
      ],
      "execution_count": null,
      "outputs": []
    },
    {
      "cell_type": "code",
      "metadata": {
        "colab": {
          "base_uri": "https://localhost:8080/",
          "height": 35
        },
        "id": "LOHQAL657TOY",
        "outputId": "10a7cffa-89dc-48ec-bff5-c8ea5c0aaf6d"
      },
      "source": [
        "message [0]"
      ],
      "execution_count": null,
      "outputs": [
        {
          "output_type": "execute_result",
          "data": {
            "application/vnd.google.colaboratory.intrinsic+json": {
              "type": "string"
            },
            "text/plain": [
              "'i didnt feel humiliated'"
            ]
          },
          "metadata": {},
          "execution_count": 14
        }
      ]
    },
    {
      "cell_type": "markdown",
      "metadata": {
        "id": "d8qPlz8U7X_1"
      },
      "source": [
        "## TEXT PRE-PROCESSING"
      ]
    },
    {
      "cell_type": "code",
      "metadata": {
        "colab": {
          "base_uri": "https://localhost:8080/"
        },
        "id": "xdwSn9IV7VLt",
        "outputId": "8de30591-94b0-45f4-a2c6-7a37ac1ea3cf"
      },
      "source": [
        "import re\n",
        "import nltk\n",
        "from nltk.corpus import stopwords\n",
        "nltk.download('stopwords')\n",
        "\n",
        "from nltk.stem.porter import PorterStemmer"
      ],
      "execution_count": null,
      "outputs": [
        {
          "output_type": "stream",
          "name": "stdout",
          "text": [
            "[nltk_data] Downloading package stopwords to /root/nltk_data...\n",
            "[nltk_data]   Package stopwords is already up-to-date!\n"
          ]
        }
      ]
    },
    {
      "cell_type": "code",
      "metadata": {
        "id": "eZknHD978W_8"
      },
      "source": [
        "ps = PorterStemmer()"
      ],
      "execution_count": null,
      "outputs": []
    },
    {
      "cell_type": "code",
      "metadata": {
        "id": "R5atZKom7bf_"
      },
      "source": [
        "# Creat the corpus of text\n",
        "corpus = []\n",
        "for i in range(0, len(message)):\n",
        "    review = re.sub('[^a-zA-Z]', ' ', message[i])\n",
        "    review = review.lower()\n",
        "    review = review.split()\n",
        "    \n",
        "    review = [ps.stem(word) for word in review if not word in stopwords.words('english')]\n",
        "    review = ' '.join(review)\n",
        "    corpus.append(review)"
      ],
      "execution_count": null,
      "outputs": []
    },
    {
      "cell_type": "code",
      "metadata": {
        "colab": {
          "base_uri": "https://localhost:8080/",
          "height": 35
        },
        "id": "J3xNCAhp7vV8",
        "outputId": "9910bebe-597f-4791-859e-0ffc9c740eb4"
      },
      "source": [
        "corpus[1]"
      ],
      "execution_count": null,
      "outputs": [
        {
          "output_type": "execute_result",
          "data": {
            "application/vnd.google.colaboratory.intrinsic+json": {
              "type": "string"
            },
            "text/plain": [
              "'go feel hopeless damn hope around someon care awak'"
            ]
          },
          "metadata": {},
          "execution_count": 18
        }
      ]
    },
    {
      "cell_type": "code",
      "metadata": {
        "id": "mTMaTB838n7P"
      },
      "source": [
        "from tensorflow import keras\n",
        "from keras_preprocessing.text import one_hot\n",
        "from keras.preprocessing.sequence import pad_sequences"
      ],
      "execution_count": null,
      "outputs": []
    },
    {
      "cell_type": "code",
      "metadata": {
        "colab": {
          "base_uri": "https://localhost:8080/"
        },
        "id": "eKFHLF1988CR",
        "outputId": "bea6d706-6267-42c4-d000-f53844a108dc"
      },
      "source": [
        "# Create one hot representation of the text\n",
        "voc_size = 10000\n",
        "one_hot_representation = [one_hot(words,voc_size) for words in corpus]\n",
        "\n",
        "one_hot_representation[1]"
      ],
      "execution_count": null,
      "outputs": [
        {
          "output_type": "execute_result",
          "data": {
            "text/plain": [
              "[7918, 4112, 9268, 6657, 9866, 5285, 2736, 6124, 3473]"
            ]
          },
          "metadata": {},
          "execution_count": 20
        }
      ]
    },
    {
      "cell_type": "code",
      "metadata": {
        "colab": {
          "base_uri": "https://localhost:8080/"
        },
        "id": "zNtaGM-09F2X",
        "outputId": "0e147704-8770-471d-fada-0a729b043c4d"
      },
      "source": [
        "from keras.preprocessing.sequence import pad_sequences\n",
        "\n",
        "# Create same length inputs\n",
        "sent_length = 20\n",
        "embedded_doc = pad_sequences(one_hot_representation,padding='pre',maxlen=sent_length)\n",
        "embedded_doc[1]"
      ],
      "execution_count": null,
      "outputs": [
        {
          "output_type": "execute_result",
          "data": {
            "text/plain": [
              "array([   0,    0,    0,    0,    0,    0,    0,    0,    0,    0,    0,\n",
              "       7918, 4112, 9268, 6657, 9866, 5285, 2736, 6124, 3473], dtype=int32)"
            ]
          },
          "metadata": {},
          "execution_count": 21
        }
      ]
    },
    {
      "cell_type": "markdown",
      "metadata": {
        "id": "j4XUJJ6I9g-Z"
      },
      "source": [
        "## MODEL BUILDING"
      ]
    },
    {
      "cell_type": "code",
      "metadata": {
        "id": "6s71Z0Xc9gmu"
      },
      "source": [
        "import tensorflow as tf\n",
        "from keras.models import Sequential\n",
        "from keras.layers import Embedding,Dense,Dropout,LSTM,Bidirectional"
      ],
      "execution_count": null,
      "outputs": []
    },
    {
      "cell_type": "code",
      "metadata": {
        "id": "nPHUA0Uk9eq4"
      },
      "source": [
        "dimension = 40\n",
        "model = Sequential()\n",
        "model.add(Embedding(voc_size,dimension,input_length=sent_length))\n",
        "model.add(Bidirectional(LSTM(100)))\n",
        "model.add(Dense(1,activation='softmax'))"
      ],
      "execution_count": null,
      "outputs": []
    },
    {
      "cell_type": "code",
      "metadata": {
        "colab": {
          "base_uri": "https://localhost:8080/"
        },
        "id": "Yhoz1Ce69rw0",
        "outputId": "d2426046-7112-4320-9086-130ecb316ffa"
      },
      "source": [
        "model.compile(loss='categorical_crossentropy',optimizer=tf.keras.optimizers.Adam(learning_rate=.001) ,metrics=['accuracy'])\n",
        "print(model.summary())"
      ],
      "execution_count": null,
      "outputs": [
        {
          "output_type": "stream",
          "name": "stdout",
          "text": [
            "Model: \"sequential_1\"\n",
            "_________________________________________________________________\n",
            "Layer (type)                 Output Shape              Param #   \n",
            "=================================================================\n",
            "embedding_1 (Embedding)      (None, 20, 40)            400000    \n",
            "_________________________________________________________________\n",
            "bidirectional_1 (Bidirection (None, 200)               112800    \n",
            "_________________________________________________________________\n",
            "dense_1 (Dense)              (None, 1)                 201       \n",
            "=================================================================\n",
            "Total params: 513,001\n",
            "Trainable params: 513,001\n",
            "Non-trainable params: 0\n",
            "_________________________________________________________________\n",
            "None\n"
          ]
        }
      ]
    },
    {
      "cell_type": "code",
      "metadata": {
        "id": "BmY7nFQd9utR"
      },
      "source": [
        "final_x = np.array(embedded_doc)\n",
        "final_y = np.array(y)"
      ],
      "execution_count": null,
      "outputs": []
    },
    {
      "cell_type": "code",
      "metadata": {
        "colab": {
          "base_uri": "https://localhost:8080/"
        },
        "id": "0rm_f72_-Hms",
        "outputId": "361d2302-9ba4-4fda-b0c2-f75af277046d"
      },
      "source": [
        "from sklearn.model_selection import train_test_split\n",
        "x_train, x_test, y_train, y_test = train_test_split(final_x, final_y, test_size=0.33, random_state=42, stratify = final_y)\n",
        "\n",
        "model.fit(x_train,y_train,validation_data=(x_test,y_test),epochs=10,batch_size=64)"
      ],
      "execution_count": null,
      "outputs": [
        {
          "output_type": "stream",
          "name": "stdout",
          "text": [
            "Epoch 1/10\n",
            "168/168 [==============================] - 13s 57ms/step - loss: 0.0000e+00 - accuracy: 0.1211 - val_loss: 0.0000e+00 - val_accuracy: 0.1210\n",
            "Epoch 2/10\n",
            "168/168 [==============================] - 9s 53ms/step - loss: 0.0000e+00 - accuracy: 0.1211 - val_loss: 0.0000e+00 - val_accuracy: 0.1210\n",
            "Epoch 3/10\n",
            "168/168 [==============================] - 9s 53ms/step - loss: 0.0000e+00 - accuracy: 0.1211 - val_loss: 0.0000e+00 - val_accuracy: 0.1210\n",
            "Epoch 4/10\n",
            "168/168 [==============================] - 9s 53ms/step - loss: 0.0000e+00 - accuracy: 0.1211 - val_loss: 0.0000e+00 - val_accuracy: 0.1210\n",
            "Epoch 5/10\n",
            "168/168 [==============================] - 9s 53ms/step - loss: 0.0000e+00 - accuracy: 0.1211 - val_loss: 0.0000e+00 - val_accuracy: 0.1210\n",
            "Epoch 6/10\n",
            "168/168 [==============================] - 9s 53ms/step - loss: 0.0000e+00 - accuracy: 0.1211 - val_loss: 0.0000e+00 - val_accuracy: 0.1210\n",
            "Epoch 7/10\n",
            "168/168 [==============================] - 9s 53ms/step - loss: 0.0000e+00 - accuracy: 0.1211 - val_loss: 0.0000e+00 - val_accuracy: 0.1210\n",
            "Epoch 8/10\n",
            "168/168 [==============================] - 9s 53ms/step - loss: 0.0000e+00 - accuracy: 0.1211 - val_loss: 0.0000e+00 - val_accuracy: 0.1210\n",
            "Epoch 9/10\n",
            "168/168 [==============================] - 9s 53ms/step - loss: 0.0000e+00 - accuracy: 0.1211 - val_loss: 0.0000e+00 - val_accuracy: 0.1210\n",
            "Epoch 10/10\n",
            "168/168 [==============================] - 9s 53ms/step - loss: 0.0000e+00 - accuracy: 0.1211 - val_loss: 0.0000e+00 - val_accuracy: 0.1210\n"
          ]
        },
        {
          "output_type": "execute_result",
          "data": {
            "text/plain": [
              "<keras.callbacks.History at 0x7fc6a59774d0>"
            ]
          },
          "metadata": {},
          "execution_count": 36
        }
      ]
    },
    {
      "cell_type": "code",
      "metadata": {
        "id": "p3_v4j0x-OwO",
        "colab": {
          "base_uri": "https://localhost:8080/"
        },
        "outputId": "01afc6da-5de2-49cd-c489-f1bc0694df78"
      },
      "source": [
        "model2 = tf.keras.Sequential([\n",
        "    tf.keras.layers.Embedding(voc_size, dimension),\n",
        "    tf.keras.layers.Bidirectional(tf.keras.layers.LSTM(dimension,\n",
        "              return_sequences=True)),\n",
        "    tf.keras.layers.Bidirectional(tf.keras.layers.LSTM(dimension)),\n",
        "    tf.keras.layers.Dense(24, activation='relu'),\n",
        "    tf.keras.layers.Dense(1, activation='softmax')\n",
        "])\n",
        "\n",
        "model2.compile(loss='categorical_crossentropy',optimizer=tf.keras.optimizers.Adam(learning_rate=.001) ,metrics=['accuracy'])\n",
        "print(model.summary())"
      ],
      "execution_count": null,
      "outputs": [
        {
          "output_type": "stream",
          "name": "stdout",
          "text": [
            "Model: \"sequential_1\"\n",
            "_________________________________________________________________\n",
            "Layer (type)                 Output Shape              Param #   \n",
            "=================================================================\n",
            "embedding_1 (Embedding)      (None, 20, 40)            400000    \n",
            "_________________________________________________________________\n",
            "bidirectional_1 (Bidirection (None, 200)               112800    \n",
            "_________________________________________________________________\n",
            "dense_1 (Dense)              (None, 1)                 201       \n",
            "=================================================================\n",
            "Total params: 513,001\n",
            "Trainable params: 513,001\n",
            "Non-trainable params: 0\n",
            "_________________________________________________________________\n",
            "None\n"
          ]
        }
      ]
    },
    {
      "cell_type": "code",
      "metadata": {
        "colab": {
          "base_uri": "https://localhost:8080/"
        },
        "id": "pWKE2M_xU6yQ",
        "outputId": "b218d49e-297f-4dad-8fe2-4cdfc49b736a"
      },
      "source": [
        "model2.fit(x_train,y_train,validation_data=(x_test,y_test),epochs=10,batch_size=64)"
      ],
      "execution_count": null,
      "outputs": [
        {
          "output_type": "stream",
          "name": "stdout",
          "text": [
            "Epoch 1/10\n",
            "168/168 [==============================] - 18s 66ms/step - loss: 0.0000e+00 - accuracy: 0.1211 - val_loss: 0.0000e+00 - val_accuracy: 0.1210\n",
            "Epoch 2/10\n",
            "168/168 [==============================] - 10s 57ms/step - loss: 0.0000e+00 - accuracy: 0.1211 - val_loss: 0.0000e+00 - val_accuracy: 0.1210\n",
            "Epoch 3/10\n",
            "168/168 [==============================] - 10s 57ms/step - loss: 0.0000e+00 - accuracy: 0.1211 - val_loss: 0.0000e+00 - val_accuracy: 0.1210\n",
            "Epoch 4/10\n",
            "168/168 [==============================] - 10s 57ms/step - loss: 0.0000e+00 - accuracy: 0.1211 - val_loss: 0.0000e+00 - val_accuracy: 0.1210\n",
            "Epoch 5/10\n",
            "168/168 [==============================] - 10s 58ms/step - loss: 0.0000e+00 - accuracy: 0.1211 - val_loss: 0.0000e+00 - val_accuracy: 0.1210\n",
            "Epoch 6/10\n",
            "168/168 [==============================] - 9s 57ms/step - loss: 0.0000e+00 - accuracy: 0.1211 - val_loss: 0.0000e+00 - val_accuracy: 0.1210\n",
            "Epoch 7/10\n",
            "168/168 [==============================] - 10s 57ms/step - loss: 0.0000e+00 - accuracy: 0.1211 - val_loss: 0.0000e+00 - val_accuracy: 0.1210\n",
            "Epoch 8/10\n",
            "168/168 [==============================] - 10s 57ms/step - loss: 0.0000e+00 - accuracy: 0.1211 - val_loss: 0.0000e+00 - val_accuracy: 0.1210\n",
            "Epoch 9/10\n",
            "168/168 [==============================] - 10s 57ms/step - loss: 0.0000e+00 - accuracy: 0.1211 - val_loss: 0.0000e+00 - val_accuracy: 0.1210\n",
            "Epoch 10/10\n",
            "168/168 [==============================] - 10s 58ms/step - loss: 0.0000e+00 - accuracy: 0.1211 - val_loss: 0.0000e+00 - val_accuracy: 0.1210\n"
          ]
        },
        {
          "output_type": "execute_result",
          "data": {
            "text/plain": [
              "<keras.callbacks.History at 0x7fc6a87529d0>"
            ]
          },
          "metadata": {},
          "execution_count": 40
        }
      ]
    },
    {
      "cell_type": "code",
      "metadata": {
        "id": "mOGex3dAVSFQ"
      },
      "source": [
        ""
      ],
      "execution_count": null,
      "outputs": []
    }
  ]
}